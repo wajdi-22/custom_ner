{
  "nbformat": 4,
  "nbformat_minor": 0,
  "metadata": {
    "colab": {
      "provenance": []
    },
    "kernelspec": {
      "name": "python3",
      "display_name": "Python 3"
    },
    "language_info": {
      "name": "python"
    }
  },
  "cells": [
    {
      "cell_type": "code",
      "execution_count": null,
      "metadata": {
        "id": "SVjyVj4Uv2ZI"
      },
      "outputs": [],
      "source": [
        "from transformers import AutoModelForTokenClassification, AutoTokenizer\n",
        "\n",
        "loaded_model = AutoModelForTokenClassification.from_pretrained(\"checkpoint-980\")\n",
        "loaded_tokenizer = AutoTokenizer.from_pretrained(\"checkpoint-980\")"
      ]
    },
    {
      "cell_type": "code",
      "source": [
        "from transformers import pipeline\n",
        "\n",
        "loaded_pipe = pipeline(\"ner\", model=loaded_model, tokenizer=loaded_tokenizer, aggregation_strategy=\"simple\")\n",
        "result = loaded_pipe(\n",
        "    \"43 children were riding on the bus. At the bus stop some children got off the bus. Then there were 21 children left on the bus.\")\n",
        "print(result)"
      ],
      "metadata": {
        "id": "21xn9ED1v_aE"
      },
      "execution_count": null,
      "outputs": []
    }
  ]
}